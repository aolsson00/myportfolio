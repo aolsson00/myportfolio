{
 "cells": [
  {
   "cell_type": "code",
   "execution_count": 56,
   "id": "89e149a1",
   "metadata": {},
   "outputs": [
    {
     "name": "stdout",
     "output_type": "stream",
     "text": [
      "                                        Number of visitors (in hundreds a day)  \\\n",
      "Number of visitors (in hundreds a day)                                1.000000   \n",
      "Number of parking tickets                                             0.804424   \n",
      "Agerage temperature                                                   0.681572   \n",
      "\n",
      "                                        Number of parking tickets  \\\n",
      "Number of visitors (in hundreds a day)                   0.804424   \n",
      "Number of parking tickets                                1.000000   \n",
      "Agerage temperature                                      0.807333   \n",
      "\n",
      "                                        Agerage temperature  \n",
      "Number of visitors (in hundreds a day)             0.681572  \n",
      "Number of parking tickets                          0.807333  \n",
      "Agerage temperature                                1.000000  \n",
      "\n",
      "A. The correlation coefficient for the relationship between the number of visitors (in hundreds a day) and the\n",
      " number of parking tickets issued for parking violations is 0.804424. \n",
      "This indicates a strong correlation between the number of visitors registered in attendance and the number of\n",
      " tickets issued. \n",
      "B. The linear regression coefficient for the relationship between temperature and the number of\n",
      " tickets issued is 1416.43.\n",
      "This indicates that for every degree the temperature increases 1416 more visitors attend.\n",
      "C. The relationship between temperature and the number of parking tickets issues is 0.807333.\n",
      "This indicates that as the temperature increases the number of visitors also increases. \n",
      "This is a strong coorelation.\n"
     ]
    }
   ],
   "source": [
    "    import pandas as pd\n",
    "\n",
    "# Load the CSV file\n",
    "df = pd.read_csv('OA 3.3.csv')\n",
    "\n",
    "# Compute the correlation coefficient between the two relevant columns\n",
    "correlation1 = df[['Number of visitors (in hundreds a day)', 'Number of parking tickets']].corr().iloc[0, 1]\n",
    "correlation2 = df[['Agerage temperature', 'Number of parking tickets']].corr().iloc[0, 1]\n",
    "\n",
    "linearregressionco1 = df[['Agerage temperature','Number of visitors (in hundreds a day)']].cov().iloc[0,1] *100\n",
    "\n",
    "# Print the correlation matrix and a formatted message\n",
    "print(df.corr())\n",
    "print(f\"\\nA. The correlation coefficient for the relationship between the number of visitors (in hundreds a day) and the\"\n",
    "      f\"\\n number \"\n",
    "      f\"of parking tickets issued for parking violations is {correlation1:.6f}. \"\n",
    "      f\"\\nThis indicates a strong correlation between the number of visitors registered in attendance and the number of\\n tickets issued. \"\n",
    "      \n",
    "      f\"\\nB. The linear regression coefficient for the relationship between temperature and the number of\\n tickets issued is {linearregressionco1:.2f}.\"\n",
    "      f\"\\nThis indicates that for every degree the temperature increases {linearregressionco1:.0f} more visitors attend.\"\n",
    "      \n",
    "      f\"\\nC. The relationship between temperature and the number of parking tickets issues is {correlation2:.6}.\"\n",
    "      f\"\\nThis indicates that as the temperature increases the number of visitors also increases. \"\n",
    "      f\"\\nThis is a strong coorelation.\"\n",
    "      \n",
    ")\n"
   ]
  },
  {
   "cell_type": "code",
   "execution_count": null,
   "id": "b54e1d51",
   "metadata": {},
   "outputs": [],
   "source": []
  }
 ],
 "metadata": {
  "kernelspec": {
   "display_name": "Python 3 (ipykernel)",
   "language": "python",
   "name": "python3"
  },
  "language_info": {
   "codemirror_mode": {
    "name": "ipython",
    "version": 3
   },
   "file_extension": ".py",
   "mimetype": "text/x-python",
   "name": "python",
   "nbconvert_exporter": "python",
   "pygments_lexer": "ipython3",
   "version": "3.11.5"
  }
 },
 "nbformat": 4,
 "nbformat_minor": 5
}
